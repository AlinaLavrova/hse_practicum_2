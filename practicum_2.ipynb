{
 "cells": [
  {
   "cell_type": "code",
   "execution_count": 1,
   "id": "fa46008a",
   "metadata": {},
   "outputs": [],
   "source": [
    "import pandas as pd\n",
    "import numpy as np\n",
    "import matplotlib.pyplot as plt \n",
    "import scipy.stats   #импортируем библиотеки"
   ]
  },
  {
   "cell_type": "markdown",
   "id": "35e84f02",
   "metadata": {},
   "source": [
    "#### Датасет содержит информацию о клиентах банка и состоит из следующих переменных:\n",
    "• **Age** - Возраст клиента                                                                                                   \n",
    "• **Job** - Тип занятости                                                                                                    \n",
    "• **Marital** - Семейное положение                                                                                             \n",
    "• **Education** - Уровень образования                                                                                           \n",
    "• **Default** - Наличие дефолта по кредиту (дефолт - неспособность должника погасить кредит)                                   \n",
    "• **Balance** - Среднегодовой баланс банковской карты, в евро                                                                   \n",
    "• **Housing** - Наличие ипотеки                                                                                                \n",
    "• **Loan** - Наличие потребительского кредита                                                                                   \n",
    "• **Contact** - Контактный вид связи                                                                                           \n",
    "• **Day** - День последнего контакта                                                                                           \n",
    "• **Month** - Месяц последнего контакта                                                                                         \n",
    "• **Duration** - Продолжительность последнего контакта, в секундах                                                             \n",
    "• **Campaign** - Количество контактов с клиентом за отчетный период                                                             \n",
    "• **Y** - Наличие срочного банковского вклада (депозита)                                                                       "
   ]
  },
  {
   "cell_type": "markdown",
   "id": "b80ecbc6",
   "metadata": {},
   "source": [
    "#### Цель анализа представленного датасета:\n",
    "определить какие атрибуты оказывают влияние на открытие клиентами банка срочных банковских вкладов (депозитов)"
   ]
  },
  {
   "cell_type": "code",
   "execution_count": 2,
   "id": "b83508bf",
   "metadata": {},
   "outputs": [
    {
     "data": {
      "text/html": [
       "<div>\n",
       "<style scoped>\n",
       "    .dataframe tbody tr th:only-of-type {\n",
       "        vertical-align: middle;\n",
       "    }\n",
       "\n",
       "    .dataframe tbody tr th {\n",
       "        vertical-align: top;\n",
       "    }\n",
       "\n",
       "    .dataframe thead th {\n",
       "        text-align: right;\n",
       "    }\n",
       "</style>\n",
       "<table border=\"1\" class=\"dataframe\">\n",
       "  <thead>\n",
       "    <tr style=\"text-align: right;\">\n",
       "      <th></th>\n",
       "      <th>age</th>\n",
       "      <th>job</th>\n",
       "      <th>marital</th>\n",
       "      <th>education</th>\n",
       "      <th>default</th>\n",
       "      <th>balance</th>\n",
       "      <th>housing</th>\n",
       "      <th>loan</th>\n",
       "      <th>contact</th>\n",
       "      <th>day</th>\n",
       "      <th>month</th>\n",
       "      <th>duration</th>\n",
       "      <th>campaign</th>\n",
       "      <th>y</th>\n",
       "    </tr>\n",
       "  </thead>\n",
       "  <tbody>\n",
       "    <tr>\n",
       "      <th>0</th>\n",
       "      <td>58</td>\n",
       "      <td>management</td>\n",
       "      <td>married</td>\n",
       "      <td>tertiary</td>\n",
       "      <td>no</td>\n",
       "      <td>2143</td>\n",
       "      <td>yes</td>\n",
       "      <td>no</td>\n",
       "      <td>unknown</td>\n",
       "      <td>5</td>\n",
       "      <td>may</td>\n",
       "      <td>261</td>\n",
       "      <td>1</td>\n",
       "      <td>no</td>\n",
       "    </tr>\n",
       "    <tr>\n",
       "      <th>1</th>\n",
       "      <td>44</td>\n",
       "      <td>technician</td>\n",
       "      <td>single</td>\n",
       "      <td>secondary</td>\n",
       "      <td>no</td>\n",
       "      <td>29</td>\n",
       "      <td>yes</td>\n",
       "      <td>no</td>\n",
       "      <td>unknown</td>\n",
       "      <td>5</td>\n",
       "      <td>may</td>\n",
       "      <td>151</td>\n",
       "      <td>1</td>\n",
       "      <td>no</td>\n",
       "    </tr>\n",
       "    <tr>\n",
       "      <th>2</th>\n",
       "      <td>33</td>\n",
       "      <td>entrepreneur</td>\n",
       "      <td>married</td>\n",
       "      <td>secondary</td>\n",
       "      <td>no</td>\n",
       "      <td>2</td>\n",
       "      <td>yes</td>\n",
       "      <td>yes</td>\n",
       "      <td>unknown</td>\n",
       "      <td>5</td>\n",
       "      <td>may</td>\n",
       "      <td>76</td>\n",
       "      <td>1</td>\n",
       "      <td>no</td>\n",
       "    </tr>\n",
       "    <tr>\n",
       "      <th>3</th>\n",
       "      <td>47</td>\n",
       "      <td>blue-collar</td>\n",
       "      <td>married</td>\n",
       "      <td>unknown</td>\n",
       "      <td>no</td>\n",
       "      <td>1506</td>\n",
       "      <td>yes</td>\n",
       "      <td>no</td>\n",
       "      <td>unknown</td>\n",
       "      <td>5</td>\n",
       "      <td>may</td>\n",
       "      <td>92</td>\n",
       "      <td>1</td>\n",
       "      <td>no</td>\n",
       "    </tr>\n",
       "    <tr>\n",
       "      <th>4</th>\n",
       "      <td>33</td>\n",
       "      <td>unknown</td>\n",
       "      <td>single</td>\n",
       "      <td>unknown</td>\n",
       "      <td>no</td>\n",
       "      <td>1</td>\n",
       "      <td>no</td>\n",
       "      <td>no</td>\n",
       "      <td>unknown</td>\n",
       "      <td>5</td>\n",
       "      <td>may</td>\n",
       "      <td>198</td>\n",
       "      <td>1</td>\n",
       "      <td>no</td>\n",
       "    </tr>\n",
       "    <tr>\n",
       "      <th>...</th>\n",
       "      <td>...</td>\n",
       "      <td>...</td>\n",
       "      <td>...</td>\n",
       "      <td>...</td>\n",
       "      <td>...</td>\n",
       "      <td>...</td>\n",
       "      <td>...</td>\n",
       "      <td>...</td>\n",
       "      <td>...</td>\n",
       "      <td>...</td>\n",
       "      <td>...</td>\n",
       "      <td>...</td>\n",
       "      <td>...</td>\n",
       "      <td>...</td>\n",
       "    </tr>\n",
       "    <tr>\n",
       "      <th>39995</th>\n",
       "      <td>53</td>\n",
       "      <td>technician</td>\n",
       "      <td>married</td>\n",
       "      <td>tertiary</td>\n",
       "      <td>no</td>\n",
       "      <td>395</td>\n",
       "      <td>no</td>\n",
       "      <td>no</td>\n",
       "      <td>cellular</td>\n",
       "      <td>3</td>\n",
       "      <td>jun</td>\n",
       "      <td>107</td>\n",
       "      <td>1</td>\n",
       "      <td>no</td>\n",
       "    </tr>\n",
       "    <tr>\n",
       "      <th>39996</th>\n",
       "      <td>30</td>\n",
       "      <td>management</td>\n",
       "      <td>single</td>\n",
       "      <td>tertiary</td>\n",
       "      <td>no</td>\n",
       "      <td>3340</td>\n",
       "      <td>no</td>\n",
       "      <td>no</td>\n",
       "      <td>cellular</td>\n",
       "      <td>3</td>\n",
       "      <td>jun</td>\n",
       "      <td>238</td>\n",
       "      <td>3</td>\n",
       "      <td>yes</td>\n",
       "    </tr>\n",
       "    <tr>\n",
       "      <th>39997</th>\n",
       "      <td>54</td>\n",
       "      <td>admin</td>\n",
       "      <td>divorced</td>\n",
       "      <td>secondary</td>\n",
       "      <td>no</td>\n",
       "      <td>200</td>\n",
       "      <td>no</td>\n",
       "      <td>no</td>\n",
       "      <td>cellular</td>\n",
       "      <td>3</td>\n",
       "      <td>jun</td>\n",
       "      <td>170</td>\n",
       "      <td>1</td>\n",
       "      <td>yes</td>\n",
       "    </tr>\n",
       "    <tr>\n",
       "      <th>39998</th>\n",
       "      <td>34</td>\n",
       "      <td>management</td>\n",
       "      <td>married</td>\n",
       "      <td>tertiary</td>\n",
       "      <td>no</td>\n",
       "      <td>1047</td>\n",
       "      <td>no</td>\n",
       "      <td>no</td>\n",
       "      <td>cellular</td>\n",
       "      <td>3</td>\n",
       "      <td>jun</td>\n",
       "      <td>342</td>\n",
       "      <td>1</td>\n",
       "      <td>no</td>\n",
       "    </tr>\n",
       "    <tr>\n",
       "      <th>39999</th>\n",
       "      <td>38</td>\n",
       "      <td>technician</td>\n",
       "      <td>married</td>\n",
       "      <td>secondary</td>\n",
       "      <td>no</td>\n",
       "      <td>1442</td>\n",
       "      <td>yes</td>\n",
       "      <td>no</td>\n",
       "      <td>cellular</td>\n",
       "      <td>3</td>\n",
       "      <td>jun</td>\n",
       "      <td>113</td>\n",
       "      <td>1</td>\n",
       "      <td>no</td>\n",
       "    </tr>\n",
       "  </tbody>\n",
       "</table>\n",
       "<p>40000 rows × 14 columns</p>\n",
       "</div>"
      ],
      "text/plain": [
       "       age           job   marital  education default  balance housing loan  \\\n",
       "0       58    management   married   tertiary      no     2143     yes   no   \n",
       "1       44    technician    single  secondary      no       29     yes   no   \n",
       "2       33  entrepreneur   married  secondary      no        2     yes  yes   \n",
       "3       47   blue-collar   married    unknown      no     1506     yes   no   \n",
       "4       33       unknown    single    unknown      no        1      no   no   \n",
       "...    ...           ...       ...        ...     ...      ...     ...  ...   \n",
       "39995   53    technician   married   tertiary      no      395      no   no   \n",
       "39996   30    management    single   tertiary      no     3340      no   no   \n",
       "39997   54         admin  divorced  secondary      no      200      no   no   \n",
       "39998   34    management   married   tertiary      no     1047      no   no   \n",
       "39999   38    technician   married  secondary      no     1442     yes   no   \n",
       "\n",
       "        contact  day month  duration  campaign    y  \n",
       "0       unknown    5   may       261         1   no  \n",
       "1       unknown    5   may       151         1   no  \n",
       "2       unknown    5   may        76         1   no  \n",
       "3       unknown    5   may        92         1   no  \n",
       "4       unknown    5   may       198         1   no  \n",
       "...         ...  ...   ...       ...       ...  ...  \n",
       "39995  cellular    3   jun       107         1   no  \n",
       "39996  cellular    3   jun       238         3  yes  \n",
       "39997  cellular    3   jun       170         1  yes  \n",
       "39998  cellular    3   jun       342         1   no  \n",
       "39999  cellular    3   jun       113         1   no  \n",
       "\n",
       "[40000 rows x 14 columns]"
      ]
     },
     "execution_count": 2,
     "metadata": {},
     "output_type": "execute_result"
    }
   ],
   "source": [
    "df = pd.read_csv('C:\\dataset/deposit2020.csv')   #загружаем выбранный датасет\n",
    "df"
   ]
  },
  {
   "cell_type": "code",
   "execution_count": 3,
   "id": "7d414eec",
   "metadata": {},
   "outputs": [
    {
     "name": "stdout",
     "output_type": "stream",
     "text": [
      "<class 'pandas.core.frame.DataFrame'>\n",
      "RangeIndex: 40000 entries, 0 to 39999\n",
      "Data columns (total 14 columns):\n",
      " #   Column     Non-Null Count  Dtype \n",
      "---  ------     --------------  ----- \n",
      " 0   age        40000 non-null  int64 \n",
      " 1   job        40000 non-null  object\n",
      " 2   marital    40000 non-null  object\n",
      " 3   education  40000 non-null  object\n",
      " 4   default    40000 non-null  object\n",
      " 5   balance    40000 non-null  int64 \n",
      " 6   housing    40000 non-null  object\n",
      " 7   loan       40000 non-null  object\n",
      " 8   contact    40000 non-null  object\n",
      " 9   day        40000 non-null  int64 \n",
      " 10  month      40000 non-null  object\n",
      " 11  duration   40000 non-null  int64 \n",
      " 12  campaign   40000 non-null  int64 \n",
      " 13  y          40000 non-null  object\n",
      "dtypes: int64(5), object(9)\n",
      "memory usage: 4.3+ MB\n"
     ]
    }
   ],
   "source": [
    "df.info()   #вызываем метод info для того, чтобы узнать содержит ли наш датасет пропущенные значения"
   ]
  },
  {
   "cell_type": "code",
   "execution_count": 4,
   "id": "48277ccb",
   "metadata": {},
   "outputs": [
    {
     "data": {
      "text/plain": [
       "(40000, 14)"
      ]
     },
     "execution_count": 4,
     "metadata": {},
     "output_type": "execute_result"
    }
   ],
   "source": [
    "df.shape  #узнаем размерность нашего датасета"
   ]
  },
  {
   "cell_type": "markdown",
   "id": "a97a228a",
   "metadata": {},
   "source": [
    "Вызвав функцию shape мы узнали, что наш датасет содержит 40 000 строк. Вызвав функцию info мы узнали, что каждый из имеющихся столбцов содержит 40 000 ненулевых значений. Это значит, что в нашем датасете нет пропущенных значений. Соответственно, работа с пропущенными значениями проводиться не будет."
   ]
  },
  {
   "cell_type": "code",
   "execution_count": 5,
   "id": "35c75451",
   "metadata": {},
   "outputs": [
    {
     "data": {
      "text/plain": [
       "array(['management', 'technician', 'entrepreneur', 'blue-collar',\n",
       "       'unknown', 'retired', 'admin', 'services', 'self-employed',\n",
       "       'unemployed', 'housemaid', 'student'], dtype=object)"
      ]
     },
     "execution_count": 5,
     "metadata": {},
     "output_type": "execute_result"
    }
   ],
   "source": [
    "df['job'].unique()   #узнаем какие типы занятости включены в наш датасет"
   ]
  },
  {
   "cell_type": "code",
   "execution_count": 6,
   "id": "3669534f",
   "metadata": {},
   "outputs": [
    {
     "data": {
      "text/plain": [
       "<AxesSubplot:>"
      ]
     },
     "execution_count": 6,
     "metadata": {},
     "output_type": "execute_result"
    },
    {
     "data": {
      "image/png": "[encoded data removed]",
      "text/plain": [
       "<Figure size 432x288 with 1 Axes>"
      ]
     },
     "metadata": {
      "needs_background": "light"
     },
     "output_type": "display_data"
    }
   ],
   "source": [
    "df['age'].hist(bins=40)   #построим гистограмму для того, чтобы посмотреть на распределение клиентов банка по возрасту"
   ]
  },
  {
   "cell_type": "code",
   "execution_count": 7,
   "id": "42e750d7",
   "metadata": {},
   "outputs": [
    {
     "data": {
      "text/plain": [
       "0    32\n",
       "Name: age, dtype: int64"
      ]
     },
     "execution_count": 7,
     "metadata": {},
     "output_type": "execute_result"
    }
   ],
   "source": [
    "df['age'].mode()   #расчет моды"
   ]
  },
  {
   "cell_type": "code",
   "execution_count": 8,
   "id": "af8c8f55",
   "metadata": {},
   "outputs": [
    {
     "data": {
      "text/plain": [
       "39.0"
      ]
     },
     "execution_count": 8,
     "metadata": {},
     "output_type": "execute_result"
    }
   ],
   "source": [
    "df['age'].median()   #расчет медианы"
   ]
  },
  {
   "cell_type": "code",
   "execution_count": 9,
   "id": "9ea155ec",
   "metadata": {},
   "outputs": [
    {
     "data": {
      "text/plain": [
       "40.5446"
      ]
     },
     "execution_count": 9,
     "metadata": {},
     "output_type": "execute_result"
    }
   ],
   "source": [
    "df['age'].mean()   #расчет среднего арифметического"
   ]
  },
  {
   "cell_type": "markdown",
   "id": "e834038a",
   "metadata": {},
   "source": [
    "На графике распределения видно, что наиболее часто встречающееся значение возраста покупателей беговых дорожек находится в пределах 31-32 лет. Мы подтвердили это, выполнив расчет моды - 32 года. Посчитали и другие меры центральной тенденции - медиану и среднее арифметическое. "
   ]
  },
  {
   "cell_type": "code",
   "execution_count": 10,
   "id": "ae1b0066",
   "metadata": {},
   "outputs": [],
   "source": [
    "df_age = pd.DataFrame(df.groupby('age')['balance'].mean())  #с помощью группировки выделим нужные нам данные в отдельный датасет"
   ]
  },
  {
   "cell_type": "code",
   "execution_count": 11,
   "id": "be67a5cb",
   "metadata": {},
   "outputs": [
    {
     "data": {
      "text/plain": [
       "<AxesSubplot:xlabel='age'>"
      ]
     },
     "execution_count": 11,
     "metadata": {},
     "output_type": "execute_result"
    },
    {
     "data": {
      "image/png": "[encoded data removed]",
      "text/plain": [
       "<Figure size 432x288 with 1 Axes>"
      ]
     },
     "metadata": {
      "needs_background": "light"
     },
     "output_type": "display_data"
    }
   ],
   "source": [
    "df_age.plot(kind='bar') #построим гистограмму распределения среднегодового баланса банковской карты по возрасту"
   ]
  },
  {
   "cell_type": "code",
   "execution_count": 12,
   "id": "e4b8dd56",
   "metadata": {},
   "outputs": [
    {
     "data": {
      "text/plain": [
       "6608.333333333333"
      ]
     },
     "execution_count": 12,
     "metadata": {},
     "output_type": "execute_result"
    }
   ],
   "source": [
    "df_age['balance'].max() - df_age['balance'].min()   #размах"
   ]
  },
  {
   "cell_type": "code",
   "execution_count": 13,
   "id": "3b25919c",
   "metadata": {},
   "outputs": [
    {
     "data": {
      "text/plain": [
       "710.4712642234647"
      ]
     },
     "execution_count": 13,
     "metadata": {},
     "output_type": "execute_result"
    }
   ],
   "source": [
    "np.percentile(df_age['balance'],75) - np.percentile(df_age['balance'],25)   #интерквартильный размах"
   ]
  },
  {
   "cell_type": "code",
   "execution_count": 14,
   "id": "d8156de1",
   "metadata": {},
   "outputs": [
    {
     "name": "stdout",
     "output_type": "stream",
     "text": [
      "1174716.5243916234\n",
      "1083.843403998762\n"
     ]
    }
   ],
   "source": [
    "print(df_age['balance'].var())   #дисперсия выборки\n",
    "print(df_age['balance'].std())   #среднеквадратическое отклонениевыборки"
   ]
  },
  {
   "cell_type": "markdown",
   "id": "d29726af",
   "metadata": {},
   "source": [
    "По графику распределения среднегодового баланса банковской карты по возрасту мы не можем однозначно что-то сказать, разве что об очевидных экстремальных значениях в преклонном возрасте. Также мы посчитали меры разброса (вариативности) для дохода."
   ]
  },
  {
   "cell_type": "markdown",
   "id": "806a9224",
   "metadata": {},
   "source": [
    "#### Вопрос: Отличается ли среднегодовой баланс банковской карты клиентов в зависимости от наличия депозита?"
   ]
  },
  {
   "cell_type": "markdown",
   "id": "90d2c368",
   "metadata": {},
   "source": [
    "Для того, чтобы ответить на этот вопрос используем **группировку данных в pandas**."
   ]
  },
  {
   "cell_type": "code",
   "execution_count": 15,
   "id": "618952e9",
   "metadata": {},
   "outputs": [
    {
     "data": {
      "text/plain": [
       "y\n",
       "no     1249.752533\n",
       "yes    1588.495856\n",
       "Name: balance, dtype: float64"
      ]
     },
     "execution_count": 15,
     "metadata": {},
     "output_type": "execute_result"
    }
   ],
   "source": [
    "df.groupby('y')['balance'].mean()   #рассчитаем среднегодовой баланс банковской карты в зависимости от наличия депозита"
   ]
  },
  {
   "cell_type": "markdown",
   "id": "a1306569",
   "metadata": {},
   "source": [
    "**Вывод**: Среднегодовой баланс банковской карты клиентов, не имеющих открытый депозит в банке, в среднем ниже, чем у клиентов, имеющих открытый депозит."
   ]
  },
  {
   "cell_type": "markdown",
   "id": "f6638217",
   "metadata": {},
   "source": [
    "#### Вопрос: Правда ли, что продолжительность контакта с клиентом, имеющим депозит в банке, в среднем выше, чем с клиентом, не открывшим депозит?"
   ]
  },
  {
   "cell_type": "markdown",
   "id": "52ea4abc",
   "metadata": {},
   "source": [
    "Для того, чтобы ответить на этот вопрос используем **Z-оценку**."
   ]
  },
  {
   "cell_type": "code",
   "execution_count": 16,
   "id": "2373fb52",
   "metadata": {},
   "outputs": [
    {
     "data": {
      "text/html": [
       "<div>\n",
       "<style scoped>\n",
       "    .dataframe tbody tr th:only-of-type {\n",
       "        vertical-align: middle;\n",
       "    }\n",
       "\n",
       "    .dataframe tbody tr th {\n",
       "        vertical-align: top;\n",
       "    }\n",
       "\n",
       "    .dataframe thead th {\n",
       "        text-align: right;\n",
       "    }\n",
       "</style>\n",
       "<table border=\"1\" class=\"dataframe\">\n",
       "  <thead>\n",
       "    <tr style=\"text-align: right;\">\n",
       "      <th></th>\n",
       "      <th>y</th>\n",
       "      <th>duration</th>\n",
       "    </tr>\n",
       "  </thead>\n",
       "  <tbody>\n",
       "    <tr>\n",
       "      <th>0</th>\n",
       "      <td>no</td>\n",
       "      <td>261</td>\n",
       "    </tr>\n",
       "    <tr>\n",
       "      <th>1</th>\n",
       "      <td>no</td>\n",
       "      <td>151</td>\n",
       "    </tr>\n",
       "    <tr>\n",
       "      <th>2</th>\n",
       "      <td>no</td>\n",
       "      <td>76</td>\n",
       "    </tr>\n",
       "    <tr>\n",
       "      <th>3</th>\n",
       "      <td>no</td>\n",
       "      <td>92</td>\n",
       "    </tr>\n",
       "    <tr>\n",
       "      <th>4</th>\n",
       "      <td>no</td>\n",
       "      <td>198</td>\n",
       "    </tr>\n",
       "  </tbody>\n",
       "</table>\n",
       "</div>"
      ],
      "text/plain": [
       "    y  duration\n",
       "0  no       261\n",
       "1  no       151\n",
       "2  no        76\n",
       "3  no        92\n",
       "4  no       198"
      ]
     },
     "execution_count": 16,
     "metadata": {},
     "output_type": "execute_result"
    }
   ],
   "source": [
    "needed_columns = ['y','duration']   #выделяем нужные колонки в датасете и записываем их в отдельный датасет\n",
    "df_z = df[needed_columns]\n",
    "df_z.head()"
   ]
  },
  {
   "cell_type": "code",
   "execution_count": 17,
   "id": "c532689c",
   "metadata": {},
   "outputs": [
    {
     "name": "stderr",
     "output_type": "stream",
     "text": [
      "C:\\Users\\alina\\AppData\\Local\\Temp\\ipykernel_42392\\3606419916.py:1: SettingWithCopyWarning: \n",
      "A value is trying to be set on a copy of a slice from a DataFrame.\n",
      "Try using .loc[row_indexer,col_indexer] = value instead\n",
      "\n",
      "See the caveats in the documentation: https://pandas.pydata.org/pandas-docs/stable/user_guide/indexing.html#returning-a-view-versus-a-copy\n",
      "  df_z['z-score'] = scipy.stats.zscore(df_z['duration'])   #рассчитываем z-оценку и добавляем эту колонку в созданный датасет\n"
     ]
    },
    {
     "data": {
      "text/html": [
       "<div>\n",
       "<style scoped>\n",
       "    .dataframe tbody tr th:only-of-type {\n",
       "        vertical-align: middle;\n",
       "    }\n",
       "\n",
       "    .dataframe tbody tr th {\n",
       "        vertical-align: top;\n",
       "    }\n",
       "\n",
       "    .dataframe thead th {\n",
       "        text-align: right;\n",
       "    }\n",
       "</style>\n",
       "<table border=\"1\" class=\"dataframe\">\n",
       "  <thead>\n",
       "    <tr style=\"text-align: right;\">\n",
       "      <th></th>\n",
       "      <th>y</th>\n",
       "      <th>duration</th>\n",
       "      <th>z-score</th>\n",
       "    </tr>\n",
       "  </thead>\n",
       "  <tbody>\n",
       "    <tr>\n",
       "      <th>0</th>\n",
       "      <td>no</td>\n",
       "      <td>261</td>\n",
       "      <td>0.023811</td>\n",
       "    </tr>\n",
       "    <tr>\n",
       "      <th>1</th>\n",
       "      <td>no</td>\n",
       "      <td>151</td>\n",
       "      <td>-0.400305</td>\n",
       "    </tr>\n",
       "    <tr>\n",
       "      <th>2</th>\n",
       "      <td>no</td>\n",
       "      <td>76</td>\n",
       "      <td>-0.689474</td>\n",
       "    </tr>\n",
       "    <tr>\n",
       "      <th>3</th>\n",
       "      <td>no</td>\n",
       "      <td>92</td>\n",
       "      <td>-0.627785</td>\n",
       "    </tr>\n",
       "    <tr>\n",
       "      <th>4</th>\n",
       "      <td>no</td>\n",
       "      <td>198</td>\n",
       "      <td>-0.219092</td>\n",
       "    </tr>\n",
       "  </tbody>\n",
       "</table>\n",
       "</div>"
      ],
      "text/plain": [
       "    y  duration   z-score\n",
       "0  no       261  0.023811\n",
       "1  no       151 -0.400305\n",
       "2  no        76 -0.689474\n",
       "3  no        92 -0.627785\n",
       "4  no       198 -0.219092"
      ]
     },
     "execution_count": 17,
     "metadata": {},
     "output_type": "execute_result"
    }
   ],
   "source": [
    "df_z['z-score'] = scipy.stats.zscore(df_z['duration'])   #рассчитываем z-оценку и добавляем эту колонку в созданный датасет\n",
    "df_z.head()"
   ]
  },
  {
   "cell_type": "code",
   "execution_count": 18,
   "id": "bad2a6cf",
   "metadata": {},
   "outputs": [
    {
     "data": {
      "text/plain": [
       "<AxesSubplot:>"
      ]
     },
     "execution_count": 18,
     "metadata": {},
     "output_type": "execute_result"
    },
    {
     "data": {
      "image/png": "[encoded data removed]",
      "text/plain": [
       "<Figure size 432x288 with 1 Axes>"
      ]
     },
     "metadata": {
      "needs_background": "light"
     },
     "output_type": "display_data"
    }
   ],
   "source": [
    "df_z['z-score'].hist()    #посмотрим на распределение z-оценки"
   ]
  },
  {
   "cell_type": "code",
   "execution_count": 19,
   "id": "8d6c5698",
   "metadata": {},
   "outputs": [
    {
     "data": {
      "text/html": [
       "<div>\n",
       "<style scoped>\n",
       "    .dataframe tbody tr th:only-of-type {\n",
       "        vertical-align: middle;\n",
       "    }\n",
       "\n",
       "    .dataframe tbody tr th {\n",
       "        vertical-align: top;\n",
       "    }\n",
       "\n",
       "    .dataframe thead th {\n",
       "        text-align: right;\n",
       "    }\n",
       "</style>\n",
       "<table border=\"1\" class=\"dataframe\">\n",
       "  <thead>\n",
       "    <tr style=\"text-align: right;\">\n",
       "      <th></th>\n",
       "      <th>y</th>\n",
       "      <th>duration</th>\n",
       "      <th>z-score</th>\n",
       "    </tr>\n",
       "  </thead>\n",
       "  <tbody>\n",
       "    <tr>\n",
       "      <th>37</th>\n",
       "      <td>no</td>\n",
       "      <td>1666</td>\n",
       "      <td>5.440924</td>\n",
       "    </tr>\n",
       "    <tr>\n",
       "      <th>43</th>\n",
       "      <td>no</td>\n",
       "      <td>1492</td>\n",
       "      <td>4.770050</td>\n",
       "    </tr>\n",
       "    <tr>\n",
       "      <th>53</th>\n",
       "      <td>no</td>\n",
       "      <td>787</td>\n",
       "      <td>2.051855</td>\n",
       "    </tr>\n",
       "    <tr>\n",
       "      <th>59</th>\n",
       "      <td>no</td>\n",
       "      <td>1778</td>\n",
       "      <td>5.872751</td>\n",
       "    </tr>\n",
       "    <tr>\n",
       "      <th>61</th>\n",
       "      <td>no</td>\n",
       "      <td>812</td>\n",
       "      <td>2.148245</td>\n",
       "    </tr>\n",
       "    <tr>\n",
       "      <th>...</th>\n",
       "      <td>...</td>\n",
       "      <td>...</td>\n",
       "      <td>...</td>\n",
       "    </tr>\n",
       "    <tr>\n",
       "      <th>39788</th>\n",
       "      <td>yes</td>\n",
       "      <td>781</td>\n",
       "      <td>2.028721</td>\n",
       "    </tr>\n",
       "    <tr>\n",
       "      <th>39820</th>\n",
       "      <td>yes</td>\n",
       "      <td>1087</td>\n",
       "      <td>3.208534</td>\n",
       "    </tr>\n",
       "    <tr>\n",
       "      <th>39823</th>\n",
       "      <td>yes</td>\n",
       "      <td>1144</td>\n",
       "      <td>3.428303</td>\n",
       "    </tr>\n",
       "    <tr>\n",
       "      <th>39925</th>\n",
       "      <td>yes</td>\n",
       "      <td>924</td>\n",
       "      <td>2.580071</td>\n",
       "    </tr>\n",
       "    <tr>\n",
       "      <th>39991</th>\n",
       "      <td>no</td>\n",
       "      <td>2219</td>\n",
       "      <td>7.573068</td>\n",
       "    </tr>\n",
       "  </tbody>\n",
       "</table>\n",
       "<p>1879 rows × 3 columns</p>\n",
       "</div>"
      ],
      "text/plain": [
       "         y  duration   z-score\n",
       "37      no      1666  5.440924\n",
       "43      no      1492  4.770050\n",
       "53      no       787  2.051855\n",
       "59      no      1778  5.872751\n",
       "61      no       812  2.148245\n",
       "...    ...       ...       ...\n",
       "39788  yes       781  2.028721\n",
       "39820  yes      1087  3.208534\n",
       "39823  yes      1144  3.428303\n",
       "39925  yes       924  2.580071\n",
       "39991   no      2219  7.573068\n",
       "\n",
       "[1879 rows x 3 columns]"
      ]
     },
     "execution_count": 19,
     "metadata": {},
     "output_type": "execute_result"
    }
   ],
   "source": [
    "df_z[df_z['z-score'] > 2]   #есть ли клиенты, контакт с которыми длился на 2 стандартных отклонения дольше среднего?"
   ]
  },
  {
   "cell_type": "code",
   "execution_count": 20,
   "id": "327e94f4",
   "metadata": {},
   "outputs": [
    {
     "data": {
      "text/plain": [
       "y\n",
       "no    -0.128840\n",
       "yes    1.650713\n",
       "Name: z-score, dtype: float64"
      ]
     },
     "execution_count": 20,
     "metadata": {},
     "output_type": "execute_result"
    }
   ],
   "source": [
    "df_z.groupby('y')['z-score'].mean()   #смотрим на среднюю z-оценку для каждой из групп клиентов исходя из наличия депозита"
   ]
  },
  {
   "cell_type": "markdown",
   "id": "478b722d",
   "metadata": {},
   "source": [
    "**Вывод**: Это правда. В среднем клиенты, имеющие открытый депозит, дольше общаются с представителем банка при контакте. Можно предположить что клиенты банка, которые до сих пор не открыли депозит, знают о такой возможности, но не заинтересованы в нем. В связи с этим они не готовы долго общаться с представителем банка о %-ной ставке, возможности пополнения и других характеристиках предлагаемого депозита."
   ]
  },
  {
   "cell_type": "markdown",
   "id": "97a2cb59",
   "metadata": {},
   "source": [
    "#### Вопрос: Содержат ли наши данные экстремальные значения по параметру среднегодового баланса банковской карты? Если да, то есть ли схожие характеристики у клиентов, на которые они приходятся?"
   ]
  },
  {
   "cell_type": "markdown",
   "id": "e87a8c3f",
   "metadata": {},
   "source": [
    "Для того, чтобы ответить на этот вопрос используем **нахождение выбросов через интервартильный размах**."
   ]
  },
  {
   "cell_type": "code",
   "execution_count": 21,
   "id": "f6a94758",
   "metadata": {},
   "outputs": [
    {
     "data": {
      "text/plain": [
       "count     40000.000000\n",
       "mean       1274.277550\n",
       "std        2903.769716\n",
       "min       -8019.000000\n",
       "25%          54.000000\n",
       "50%         407.000000\n",
       "75%        1319.000000\n",
       "max      102127.000000\n",
       "Name: balance, dtype: float64"
      ]
     },
     "execution_count": 21,
     "metadata": {},
     "output_type": "execute_result"
    }
   ],
   "source": [
    "df['balance'].describe()   #вызываем описательную статистику для параметра, по которому будем искать выбросы"
   ]
  },
  {
   "cell_type": "code",
   "execution_count": 22,
   "id": "c0bd82af",
   "metadata": {},
   "outputs": [
    {
     "name": "stdout",
     "output_type": "stream",
     "text": [
      "1319.0 54.0\n"
     ]
    }
   ],
   "source": [
    "q3 = np.percentile(df['balance'], 75)   #cохраним значения 1-ого и 3-ого перцентилей в переменные\n",
    "q1 = np.percentile(df['balance'], 25)\n",
    "print (q3, q1)"
   ]
  },
  {
   "cell_type": "code",
   "execution_count": 23,
   "id": "31cf951a",
   "metadata": {},
   "outputs": [
    {
     "name": "stdout",
     "output_type": "stream",
     "text": [
      "1265.0\n"
     ]
    }
   ],
   "source": [
    "iqr = q3 - q1   #найдем интерквартильный размах\n",
    "print(iqr)"
   ]
  },
  {
   "cell_type": "code",
   "execution_count": 24,
   "id": "d8ad5789",
   "metadata": {},
   "outputs": [
    {
     "name": "stdout",
     "output_type": "stream",
     "text": [
      "-3108.5 4481.5\n"
     ]
    }
   ],
   "source": [
    "iqr_threshold_bottom = q1 - 2.5 * iqr   #найдем нижнюю и верхнюю границы, для того чтобы понять что мы будем считать за выбросы\n",
    "iqr_threshold_top = q3 + 2.5 * iqr\n",
    "print (iqr_threshold_bottom, iqr_threshold_top)"
   ]
  },
  {
   "cell_type": "markdown",
   "id": "848bbbc6",
   "metadata": {},
   "source": [
    "В распределении переменной среднегодового баланса банковской карты будут выбросы и слева и справа от медианы, так как нижняя граница не меньше минимального значения исследуемого параметра, а верхняя - не превышает максимального значения."
   ]
  },
  {
   "cell_type": "code",
   "execution_count": 25,
   "id": "c55610ef",
   "metadata": {},
   "outputs": [
    {
     "data": {
      "text/plain": [
       "(5, 14)"
      ]
     },
     "execution_count": 25,
     "metadata": {},
     "output_type": "execute_result"
    }
   ],
   "source": [
    "df[df['balance'] < iqr_threshold_bottom].shape   #найдем кол-во выбросов слева от медианы - 5"
   ]
  },
  {
   "cell_type": "code",
   "execution_count": 26,
   "id": "65837f81",
   "metadata": {},
   "outputs": [
    {
     "data": {
      "text/plain": [
       "(2756, 14)"
      ]
     },
     "execution_count": 26,
     "metadata": {},
     "output_type": "execute_result"
    }
   ],
   "source": [
    "df[df['balance'] > iqr_threshold_top].shape   #найдем кол-во выбросов справа от медианы - 2756"
   ]
  },
  {
   "cell_type": "code",
   "execution_count": 27,
   "id": "64c3f27e",
   "metadata": {},
   "outputs": [
    {
     "data": {
      "text/plain": [
       "management       804\n",
       "blue-collar      510\n",
       "technician       462\n",
       "services         214\n",
       "admin            204\n",
       "self-employed    124\n",
       "retired          117\n",
       "entrepreneur     108\n",
       "unemployed        89\n",
       "housemaid         72\n",
       "student           33\n",
       "unknown           19\n",
       "Name: job, dtype: int64"
      ]
     },
     "execution_count": 27,
     "metadata": {},
     "output_type": "execute_result"
    }
   ],
   "source": [
    "df[df['balance'] > iqr_threshold_top]['job'].value_counts()   #проверим на какой тип занятости клиента приходятся выбросы справа"
   ]
  },
  {
   "cell_type": "markdown",
   "id": "8a773511",
   "metadata": {},
   "source": [
    "**Вывод**: Данные содержат экстремальные значения по параметру среднегодового баланса банковской карты, они находятся слева и справа от медианы. Однако, слева экстремальных значений всего 5, исследовать характеристики таких клиентов нет необходимости. Справа наблюдается большое количество выбросов, здесь мы можем исследовать интересные нам характеристики клиентов. Например, мы узнали, что такие клиенты преимущественно занимают менеджерские должности на работе (что логично, так как управляющие позиции подразумевают заработную плату выше средней)."
   ]
  },
  {
   "cell_type": "markdown",
   "id": "7faf6e3f",
   "metadata": {},
   "source": [
    "#### Вопрос: Есть ли зависимость между переменными (age и balance) и (duration и campaign)?"
   ]
  },
  {
   "cell_type": "markdown",
   "id": "8af16492",
   "metadata": {},
   "source": [
    "Для того, чтобы ответить на этот вопрос будем искать **корреляцию** между переменными."
   ]
  },
  {
   "cell_type": "code",
   "execution_count": 28,
   "id": "a868f873",
   "metadata": {},
   "outputs": [
    {
     "data": {
      "text/html": [
       "<div>\n",
       "<style scoped>\n",
       "    .dataframe tbody tr th:only-of-type {\n",
       "        vertical-align: middle;\n",
       "    }\n",
       "\n",
       "    .dataframe tbody tr th {\n",
       "        vertical-align: top;\n",
       "    }\n",
       "\n",
       "    .dataframe thead th {\n",
       "        text-align: right;\n",
       "    }\n",
       "</style>\n",
       "<table border=\"1\" class=\"dataframe\">\n",
       "  <thead>\n",
       "    <tr style=\"text-align: right;\">\n",
       "      <th></th>\n",
       "      <th>age</th>\n",
       "      <th>balance</th>\n",
       "      <th>duration</th>\n",
       "      <th>campaign</th>\n",
       "    </tr>\n",
       "  </thead>\n",
       "  <tbody>\n",
       "    <tr>\n",
       "      <th>0</th>\n",
       "      <td>58</td>\n",
       "      <td>2143</td>\n",
       "      <td>261</td>\n",
       "      <td>1</td>\n",
       "    </tr>\n",
       "    <tr>\n",
       "      <th>1</th>\n",
       "      <td>44</td>\n",
       "      <td>29</td>\n",
       "      <td>151</td>\n",
       "      <td>1</td>\n",
       "    </tr>\n",
       "    <tr>\n",
       "      <th>2</th>\n",
       "      <td>33</td>\n",
       "      <td>2</td>\n",
       "      <td>76</td>\n",
       "      <td>1</td>\n",
       "    </tr>\n",
       "    <tr>\n",
       "      <th>3</th>\n",
       "      <td>47</td>\n",
       "      <td>1506</td>\n",
       "      <td>92</td>\n",
       "      <td>1</td>\n",
       "    </tr>\n",
       "    <tr>\n",
       "      <th>4</th>\n",
       "      <td>33</td>\n",
       "      <td>1</td>\n",
       "      <td>198</td>\n",
       "      <td>1</td>\n",
       "    </tr>\n",
       "  </tbody>\n",
       "</table>\n",
       "</div>"
      ],
      "text/plain": [
       "   age  balance  duration  campaign\n",
       "0   58     2143       261         1\n",
       "1   44       29       151         1\n",
       "2   33        2        76         1\n",
       "3   47     1506        92         1\n",
       "4   33        1       198         1"
      ]
     },
     "execution_count": 28,
     "metadata": {},
     "output_type": "execute_result"
    }
   ],
   "source": [
    "chisl_columns = ['age', 'balance','duration','campaign']   #возьмем только количественные переменные датасета\n",
    "df_chisl = df[chisl_columns]   #и создадим новый датасет\n",
    "df_chisl.head()"
   ]
  },
  {
   "cell_type": "code",
   "execution_count": 29,
   "id": "03c737a9",
   "metadata": {},
   "outputs": [
    {
     "data": {
      "text/html": [
       "<div>\n",
       "<style scoped>\n",
       "    .dataframe tbody tr th:only-of-type {\n",
       "        vertical-align: middle;\n",
       "    }\n",
       "\n",
       "    .dataframe tbody tr th {\n",
       "        vertical-align: top;\n",
       "    }\n",
       "\n",
       "    .dataframe thead th {\n",
       "        text-align: right;\n",
       "    }\n",
       "</style>\n",
       "<table border=\"1\" class=\"dataframe\">\n",
       "  <thead>\n",
       "    <tr style=\"text-align: right;\">\n",
       "      <th></th>\n",
       "      <th>age</th>\n",
       "      <th>balance</th>\n",
       "      <th>duration</th>\n",
       "      <th>campaign</th>\n",
       "    </tr>\n",
       "  </thead>\n",
       "  <tbody>\n",
       "    <tr>\n",
       "      <th>age</th>\n",
       "      <td>1.000000</td>\n",
       "      <td>0.081517</td>\n",
       "      <td>-0.036270</td>\n",
       "      <td>0.016204</td>\n",
       "    </tr>\n",
       "    <tr>\n",
       "      <th>balance</th>\n",
       "      <td>0.081517</td>\n",
       "      <td>1.000000</td>\n",
       "      <td>0.014072</td>\n",
       "      <td>-0.008137</td>\n",
       "    </tr>\n",
       "    <tr>\n",
       "      <th>duration</th>\n",
       "      <td>-0.036270</td>\n",
       "      <td>0.014072</td>\n",
       "      <td>1.000000</td>\n",
       "      <td>-0.088387</td>\n",
       "    </tr>\n",
       "    <tr>\n",
       "      <th>campaign</th>\n",
       "      <td>0.016204</td>\n",
       "      <td>-0.008137</td>\n",
       "      <td>-0.088387</td>\n",
       "      <td>1.000000</td>\n",
       "    </tr>\n",
       "  </tbody>\n",
       "</table>\n",
       "</div>"
      ],
      "text/plain": [
       "               age   balance  duration  campaign\n",
       "age       1.000000  0.081517 -0.036270  0.016204\n",
       "balance   0.081517  1.000000  0.014072 -0.008137\n",
       "duration -0.036270  0.014072  1.000000 -0.088387\n",
       "campaign  0.016204 -0.008137 -0.088387  1.000000"
      ]
     },
     "execution_count": 29,
     "metadata": {},
     "output_type": "execute_result"
    }
   ],
   "source": [
    "df_chisl.corr()   #применим функцию corr к новому датасету"
   ]
  },
  {
   "cell_type": "code",
   "execution_count": 30,
   "id": "f60c515b",
   "metadata": {
    "scrolled": true
   },
   "outputs": [
    {
     "data": {
      "text/plain": [
       "duration  campaign   -0.088387\n",
       "campaign  duration   -0.088387\n",
       "age       duration   -0.036270\n",
       "duration  age        -0.036270\n",
       "balance   campaign   -0.008137\n",
       "campaign  balance    -0.008137\n",
       "balance   duration    0.014072\n",
       "duration  balance     0.014072\n",
       "age       campaign    0.016204\n",
       "campaign  age         0.016204\n",
       "age       balance     0.081517\n",
       "balance   age         0.081517\n",
       "age       age         1.000000\n",
       "balance   balance     1.000000\n",
       "duration  duration    1.000000\n",
       "campaign  campaign    1.000000\n",
       "dtype: float64"
      ]
     },
     "execution_count": 30,
     "metadata": {},
     "output_type": "execute_result"
    }
   ],
   "source": [
    "corr = df_chisl.corr()   # выведем коэф-ты корреляции в другом виде\n",
    "corr.unstack().sort_values()  # отсортируем, чтобы найти самую слабую и самую сильную корреляции"
   ]
  },
  {
   "cell_type": "markdown",
   "id": "e40a610e",
   "metadata": {},
   "source": [
    "Кстати, удобно смотреть на связь между переменными через тепловую карту. Давайте нарисуем её."
   ]
  },
  {
   "cell_type": "code",
   "execution_count": 31,
   "id": "df715d0d",
   "metadata": {},
   "outputs": [],
   "source": [
    "import seaborn as sns   #импортируем нужную нам библиотек"
   ]
  },
  {
   "cell_type": "code",
   "execution_count": 32,
   "id": "44f4381b",
   "metadata": {},
   "outputs": [
    {
     "data": {
      "image/png": "[encoded data removed]",
      "text/plain": [
       "<Figure size 432x288 with 2 Axes>"
      ]
     },
     "metadata": {
      "needs_background": "light"
     },
     "output_type": "display_data"
    }
   ],
   "source": [
    "sns.heatmap(df_chisl.corr(), annot = True)   #выводим тепловую карту, параметром annot = True просим показать в ячейках числовые значения\n",
    "plt.show()"
   ]
  },
  {
   "cell_type": "code",
   "execution_count": 33,
   "id": "57eed4d9",
   "metadata": {},
   "outputs": [
    {
     "data": {
      "text/plain": [
       "<AxesSubplot:xlabel='duration', ylabel='campaign'>"
      ]
     },
     "execution_count": 33,
     "metadata": {},
     "output_type": "execute_result"
    },
    {
     "data": {
      "image/png": "[encoded data removed]",
      "text/plain": [
       "<Figure size 432x288 with 1 Axes>"
      ]
     },
     "metadata": {
      "needs_background": "light"
     },
     "output_type": "display_data"
    }
   ],
   "source": [
    "df.plot('duration','campaign',kind='scatter')   #строим график рассеяния для переменных duration и campaign"
   ]
  },
  {
   "cell_type": "code",
   "execution_count": 34,
   "id": "42c59ca3",
   "metadata": {},
   "outputs": [
    {
     "data": {
      "text/plain": [
       "<AxesSubplot:xlabel='age', ylabel='balance'>"
      ]
     },
     "execution_count": 34,
     "metadata": {},
     "output_type": "execute_result"
    },
    {
     "data": {
      "image/png": "[encoded data removed]",
      "text/plain": [
       "<Figure size 432x288 with 1 Axes>"
      ]
     },
     "metadata": {
      "needs_background": "light"
     },
     "output_type": "display_data"
    }
   ],
   "source": [
    "df.plot('age','balance',kind='scatter')   #строим график рассеяния для переменных age и balance"
   ]
  },
  {
   "cell_type": "markdown",
   "id": "88b00267",
   "metadata": {},
   "source": [
    "**Вывод**: Можно сказать, что между переменными duration и campaign наблюдается обратная связь, близкая к слабой (значение -0.08 близко к значению -0.1). А между переменными age и balance наблюдается прямая связь, близкая к слабой (значение 0.08 близко к значению 0.1). Переменные коррелируют крайне слабо, взаимосвязи практически нет."
   ]
  },
  {
   "cell_type": "markdown",
   "id": "c4d33d28",
   "metadata": {},
   "source": [
    "#### Вопрос: Правда ли, что независимо от возраста, баланс банковской карты клиентов с открытым депозитом в среднем выше, чем у клиентов, не имеющих депозит?"
   ]
  },
  {
   "cell_type": "markdown",
   "id": "0c6539cc",
   "metadata": {},
   "source": [
    "Для того, чтобы ответить на этот вопрос будет удобно **визуализировать** наши переменные. Используем следующие переменные - наличие депозита, возраст, среднее баланс банковской карты за год."
   ]
  },
  {
   "cell_type": "code",
   "execution_count": 35,
   "id": "89c28231",
   "metadata": {},
   "outputs": [
    {
     "data": {
      "text/plain": [
       "y    age\n",
       "no   19     1062.700000\n",
       "     20     1136.055556\n",
       "     21      754.906250\n",
       "     22      796.661290\n",
       "     23      892.856061\n",
       "               ...     \n",
       "yes  79     8304.000000\n",
       "     83      571.500000\n",
       "     85     6608.333333\n",
       "     90        1.000000\n",
       "     95     2282.000000\n",
       "Name: balance, Length: 132, dtype: float64"
      ]
     },
     "execution_count": 35,
     "metadata": {},
     "output_type": "execute_result"
    }
   ],
   "source": [
    "sost = df.groupby(['y','age'])['balance'].mean()   #с помощью группировки создадим нужный нам набор данных\n",
    "sost"
   ]
  },
  {
   "cell_type": "code",
   "execution_count": 36,
   "id": "7e3918e2",
   "metadata": {},
   "outputs": [
    {
     "data": {
      "text/plain": [
       "Text(0.5, 0.98, 'Средний баланс банковской карты за год в завимости от возраста при наличии/отсутствии депозита')"
      ]
     },
     "execution_count": 36,
     "metadata": {},
     "output_type": "execute_result"
    },
    {
     "data": {
      "image/png": "[encoded data removed]",
      "text/plain": [
       "<Figure size 1080x360 with 1 Axes>"
      ]
     },
     "metadata": {
      "needs_background": "light"
     },
     "output_type": "display_data"
    }
   ],
   "source": [
    "fig, ax = plt.subplots(figsize=(15,5))   #строим линейный график\n",
    "ax.plot(sost.loc['yes'])\n",
    "ax.plot(sost.loc['no'])\n",
    "ax.legend(['yes','no'], frameon=False)\n",
    "fig.suptitle('Средний баланс банковской карты за год в завимости от возраста при наличии/отсутствии депозита',fontsize=15)"
   ]
  },
  {
   "cell_type": "markdown",
   "id": "fb389494",
   "metadata": {},
   "source": [
    "**Вывод**: По большей части клиенты с открытым депозитом имеют средний баланс банковской карты выше, чем клиенты, у которых нет депозита. Однако, на графике можно заметить интересный момент - в промежутке примерно между 65 и 70 это не так. Для нас, как для маркетологов, это потрясающее окно возможностей!. Если мы создадим правильную коммуникацию о депозите как о продукте и донесем ее до наших клиентов 65-70 лет, то имеем большие шансы привлечь их средства в наш банк, так как их накопления уже сформировались до выхода на пенсию, а что с ними делать - клиенты еще не решили."
   ]
  },
  {
   "cell_type": "markdown",
   "id": "568d52be",
   "metadata": {},
   "source": [
    "#### Вопрос: Правда ли, что в среднем наиболее длительный контакт с клиентом происходит при одинаковом количестве \"касаний\" клиента, независимо от наличия или отсутствия депозита?"
   ]
  },
  {
   "cell_type": "markdown",
   "id": "b7c0bf2b",
   "metadata": {},
   "source": [
    "Для того, чтобы ответить на этот вопрос будет удобно **визуализировать** наши переменные. Используем следующие переменные - наличие депозита, количество контактов с клиентом за период, средняя продолжительность последнего контакта (в секундах). Попробуем построить два отдельных графика - для клиентов, не имеющих депозит, и для клиентов с открытым депозитом."
   ]
  },
  {
   "cell_type": "code",
   "execution_count": 37,
   "id": "d3ba4d38",
   "metadata": {
    "scrolled": true
   },
   "outputs": [
    {
     "data": {
      "text/plain": [
       "y    campaign\n",
       "no   1            226.685595\n",
       "     2            239.837583\n",
       "     3            231.047640\n",
       "     4            213.186016\n",
       "     5            193.562379\n",
       "                    ...     \n",
       "yes  20           209.000000\n",
       "     21           253.000000\n",
       "     24          1484.000000\n",
       "     29          1013.000000\n",
       "     32           651.000000\n",
       "Name: duration, Length: 70, dtype: float64"
      ]
     },
     "execution_count": 37,
     "metadata": {},
     "output_type": "execute_result"
    }
   ],
   "source": [
    "average_duration = df.groupby(['y','campaign'])['duration'].mean()\n",
    "average_duration"
   ]
  },
  {
   "cell_type": "code",
   "execution_count": 38,
   "id": "1c72b576",
   "metadata": {},
   "outputs": [
    {
     "data": {
      "text/plain": [
       "count    40000.000000\n",
       "mean       254.824300\n",
       "std        259.366498\n",
       "min          0.000000\n",
       "25%        100.000000\n",
       "50%        175.000000\n",
       "75%        313.000000\n",
       "max       4918.000000\n",
       "Name: duration, dtype: float64"
      ]
     },
     "execution_count": 38,
     "metadata": {},
     "output_type": "execute_result"
    }
   ],
   "source": [
    "df['duration'].describe()"
   ]
  },
  {
   "cell_type": "code",
   "execution_count": 39,
   "id": "32f1c713",
   "metadata": {},
   "outputs": [
    {
     "data": {
      "text/plain": [
       "Text(0.5, 0.98, 'Средняя продолжительность контакта в зависимости от числа \"касаний\" с клиентом, не имеющим депозит, и с клиентом с открытым депозитом')"
      ]
     },
     "execution_count": 39,
     "metadata": {},
     "output_type": "execute_result"
    },
    {
     "data": {
      "image/png": "[encoded data removed]",
      "text/plain": [
       "<Figure size 1080x360 with 2 Axes>"
      ]
     },
     "metadata": {
      "needs_background": "light"
     },
     "output_type": "display_data"
    }
   ],
   "source": [
    "fig, ax = plt.subplots(1,2, figsize=(15,5))   #строим линейные графики - отдельно для выделенных категорий клиентов\n",
    "ax[0].plot(average_duration.loc['no'], c='black')\n",
    "ax[1].plot(average_duration.loc['yes'], c='green')\n",
    "\n",
    "for axis in ax.ravel():\n",
    "    axis.set_xlabel('campaign')\n",
    "    axis.set_ylabel('duration')\n",
    "    axis.axhline(254.8, c='grey', lw=0.5)  #среднее значение = 254.8 сек узнали с помощью функции describe\n",
    "    axis.spines['right'].set_visible(False)\n",
    "    axis.spines['top'].set_visible(False)\n",
    "    \n",
    "ax[0].legend(['no deposit','average duration'], frameon=False)\n",
    "ax[1].legend(['has deposit','average duration'], frameon=False)\n",
    "\n",
    "fig.suptitle('Средняя продолжительность контакта в зависимости от числа \"касаний\" с клиентом, не имеющим депозит, и с клиентом с открытым депозитом',fontsize=10)"
   ]
  },
  {
   "cell_type": "markdown",
   "id": "862872ff",
   "metadata": {},
   "source": [
    "**Вывод**: Неправда. В среднем наиболее длительный контакт с клиентами разных категорий происходит при разном количестве касаний. Для клиентов, не имеющих депозит, наибольшая длительность наблюдается при примерно 55 \"касаниях\" за период. А для клиентов с открытым депозитом - при 25 \"касаниях\". Наша цель как маркетологов - привлечь средства клиентов через депозиты, для этого мы должны увеличивать количество \"касаний\" через другие услуги банка, добиться лояльности клиента, после чего он с большей готовностью будет обсуждать возможность открытия депозита и его условия."
   ]
  },
  {
   "cell_type": "markdown",
   "id": "ee356fcf",
   "metadata": {},
   "source": [
    "#### Проверим гипотезу: Нет разницы между среднегодовым балансом клиентов, испытавших дефолт, и клиентов, не испытавших дефолт."
   ]
  },
  {
   "cell_type": "markdown",
   "id": "2e6e86ac",
   "metadata": {},
   "source": [
    "Для того, чтобы ответить на этот вопрос будем использовать **t-тест для тестирования гипотез**."
   ]
  },
  {
   "cell_type": "markdown",
   "id": "f528cff6",
   "metadata": {},
   "source": [
    "H0: Нет разницы между среднегодовым балансом клиентов, испытавших дефолт, и клиентов, не испытавших дефолт."
   ]
  },
  {
   "cell_type": "markdown",
   "id": "d7a54261",
   "metadata": {},
   "source": [
    "H1: Есть разница между среднегодовым балансом клиентов, испытавших дефолт, и клиентов, не испытавших дефолт."
   ]
  },
  {
   "cell_type": "markdown",
   "id": "5be6311e",
   "metadata": {},
   "source": [
    "Будем использовать двусторонний тест. Уровень статистической значимости альфа = 0.05"
   ]
  },
  {
   "cell_type": "code",
   "execution_count": 40,
   "id": "94bae815",
   "metadata": {},
   "outputs": [],
   "source": [
    "default_yes = df[df['default'] == 'yes']['balance']   #получаем два объекта pandas series\n",
    "default_no = df[df['default'] == 'no']['balance']"
   ]
  },
  {
   "cell_type": "code",
   "execution_count": 41,
   "id": "41af5c9c",
   "metadata": {},
   "outputs": [
    {
     "name": "stdout",
     "output_type": "stream",
     "text": [
      "822700.635355345\n",
      "8546723.154216561\n"
     ]
    }
   ],
   "source": [
    "print(default_yes.var())   #рассчитываем дисперсии - они не равны\n",
    "print(default_no.var())"
   ]
  },
  {
   "cell_type": "code",
   "execution_count": 42,
   "id": "961899e3",
   "metadata": {},
   "outputs": [
    {
     "data": {
      "text/plain": [
       "Ttest_indResult(statistic=-41.128427677926695, pvalue=8.229628795575887e-231)"
      ]
     },
     "execution_count": 42,
     "metadata": {},
     "output_type": "execute_result"
    }
   ],
   "source": [
    "scipy.stats.ttest_ind(default_yes, default_no, equal_var=False)   #используем функцию из библиотеки scipy.stats"
   ]
  },
  {
   "cell_type": "code",
   "execution_count": 43,
   "id": "5aaf40be",
   "metadata": {},
   "outputs": [],
   "source": [
    "p_value = scipy.stats.ttest_ind(default_yes, default_no, equal_var=False)[-1]   #расчитываем pvalue"
   ]
  },
  {
   "cell_type": "code",
   "execution_count": 44,
   "id": "3bc1577e",
   "metadata": {},
   "outputs": [],
   "source": [
    "def hypothesis_check(p_value, t_critical):   #задаем функцию для проверки гипотезы\n",
    "    if abs(p_value) < t_critical:\n",
    "        print('Отвергаем Н0. Разница между средними статистически значима.')\n",
    "    else:\n",
    "        print('Не удалось отвергнуть H0')\n",
    "        \n",
    "t_critical = 1.9667   #определяем критическое значение t"
   ]
  },
  {
   "cell_type": "code",
   "execution_count": 45,
   "id": "d1ca926d",
   "metadata": {},
   "outputs": [
    {
     "name": "stdout",
     "output_type": "stream",
     "text": [
      "Отвергаем Н0. Разница между средними статистически значима.\n"
     ]
    }
   ],
   "source": [
    "hypothesis_check(p_value, t_critical)   #используем функцию для проверки гипотезы"
   ]
  },
  {
   "cell_type": "markdown",
   "id": "489a9273",
   "metadata": {},
   "source": [
    "**Вывод**: Гипотеза о том, что нет разницы между среднегодовым балансом клиентов, испытавших дефолт, и клиентов, не испытавших дефолт, отвергается."
   ]
  }
 ],
 "metadata": {
  "kernelspec": {
   "display_name": "Python 3 (ipykernel)",
   "language": "python",
   "name": "python3"
  },
  "language_info": {
   "codemirror_mode": {
    "name": "ipython",
    "version": 3
   },
   "file_extension": ".py",
   "mimetype": "text/x-python",
   "name": "python",
   "nbconvert_exporter": "python",
   "pygments_lexer": "ipython3",
   "version": "3.9.12"
  }
 },
 "nbformat": 4,
 "nbformat_minor": 5
}
